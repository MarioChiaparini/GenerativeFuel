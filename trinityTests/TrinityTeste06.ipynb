{
 "cells": [
  {
   "cell_type": "code",
   "execution_count": 1,
   "id": "79a00939-91fd-4c8a-b510-6cd951a33363",
   "metadata": {
    "tags": []
   },
   "outputs": [],
   "source": [
    "import pandas as pd"
   ]
  },
  {
   "cell_type": "code",
   "execution_count": 2,
   "id": "3d381859-5543-4801-aee8-f9ccb9a6350f",
   "metadata": {
    "tags": []
   },
   "outputs": [],
   "source": [
    "data = pd.read_csv('compounds_with_smiles.csv')"
   ]
  },
  {
   "cell_type": "code",
   "execution_count": 3,
   "id": "8f6cc68d-6e7f-40ee-8c43-0ed27c14c73e",
   "metadata": {
    "tags": []
   },
   "outputs": [],
   "source": [
    "df = pd.DataFrame(data)"
   ]
  },
  {
   "cell_type": "code",
   "execution_count": 4,
   "id": "e7541ccc-f88e-4e13-a769-7b37ea69bf56",
   "metadata": {
    "tags": []
   },
   "outputs": [
    {
     "data": {
      "text/html": [
       "<div>\n",
       "<style scoped>\n",
       "    .dataframe tbody tr th:only-of-type {\n",
       "        vertical-align: middle;\n",
       "    }\n",
       "\n",
       "    .dataframe tbody tr th {\n",
       "        vertical-align: top;\n",
       "    }\n",
       "\n",
       "    .dataframe thead th {\n",
       "        text-align: right;\n",
       "    }\n",
       "</style>\n",
       "<table border=\"1\" class=\"dataframe\">\n",
       "  <thead>\n",
       "    <tr style=\"text-align: right;\">\n",
       "      <th></th>\n",
       "      <th>Compound</th>\n",
       "      <th>Energy</th>\n",
       "      <th>Element_Names</th>\n",
       "      <th>SMILES</th>\n",
       "    </tr>\n",
       "  </thead>\n",
       "  <tbody>\n",
       "    <tr>\n",
       "      <th>0</th>\n",
       "      <td>1,2-Dichloroethane</td>\n",
       "      <td>12.57</td>\n",
       "      <td>['Dichloroethane']</td>\n",
       "      <td>C(CCl)Cl</td>\n",
       "    </tr>\n",
       "    <tr>\n",
       "      <th>1</th>\n",
       "      <td>2-Chloroethanol</td>\n",
       "      <td>5.00</td>\n",
       "      <td>['Chloroethanol']</td>\n",
       "      <td>C(CCl)O</td>\n",
       "    </tr>\n",
       "    <tr>\n",
       "      <th>2</th>\n",
       "      <td>Ethylene Glycol</td>\n",
       "      <td>1189.20</td>\n",
       "      <td>['Ethylene', 'Glycol']</td>\n",
       "      <td>C(CO)O</td>\n",
       "    </tr>\n",
       "    <tr>\n",
       "      <th>3</th>\n",
       "      <td>Acetic Acid</td>\n",
       "      <td>874.20</td>\n",
       "      <td>['Acetic', 'Acid']</td>\n",
       "      <td>CC(=O)O</td>\n",
       "    </tr>\n",
       "    <tr>\n",
       "      <th>4</th>\n",
       "      <td>Acetaldehyde</td>\n",
       "      <td>-1168.79</td>\n",
       "      <td>['Acetaldehyde']</td>\n",
       "      <td>CC=O</td>\n",
       "    </tr>\n",
       "    <tr>\n",
       "      <th>...</th>\n",
       "      <td>...</td>\n",
       "      <td>...</td>\n",
       "      <td>...</td>\n",
       "      <td>...</td>\n",
       "    </tr>\n",
       "    <tr>\n",
       "      <th>517</th>\n",
       "      <td>Zincum phosphoratum</td>\n",
       "      <td>5.00</td>\n",
       "      <td>['Zincum']</td>\n",
       "      <td>[P-3].[P-3].[Zn+2].[Zn+2].[Zn+2]</td>\n",
       "    </tr>\n",
       "    <tr>\n",
       "      <th>518</th>\n",
       "      <td>Titanium tetrabutoxide</td>\n",
       "      <td>-8100.00</td>\n",
       "      <td>['Titanium']</td>\n",
       "      <td>CCCCO.CCCCO.CCCCO.CCCCO.[Ti]</td>\n",
       "    </tr>\n",
       "    <tr>\n",
       "      <th>519</th>\n",
       "      <td>Tetrabutyl orthotitanate</td>\n",
       "      <td>-8100.00</td>\n",
       "      <td>['Tetrabutyl']</td>\n",
       "      <td>CCCCO</td>\n",
       "    </tr>\n",
       "    <tr>\n",
       "      <th>520</th>\n",
       "      <td>trans-5-Ethylidenebicyclo[2.2.1]hept-2-ene</td>\n",
       "      <td>450.00</td>\n",
       "      <td>['Ethylidenebicyclo']</td>\n",
       "      <td>CC=C1C[C@@H]2C[C@@H]1C=C2</td>\n",
       "    </tr>\n",
       "    <tr>\n",
       "      <th>521</th>\n",
       "      <td>s-Triazol-3-ol, 5-nitro-</td>\n",
       "      <td>-934.40</td>\n",
       "      <td>['Triazol']</td>\n",
       "      <td>C1(=O)NC(=NN1)[N+](=O)[O-]</td>\n",
       "    </tr>\n",
       "  </tbody>\n",
       "</table>\n",
       "<p>522 rows × 4 columns</p>\n",
       "</div>"
      ],
      "text/plain": [
       "                                       Compound   Energy  \\\n",
       "0                            1,2-Dichloroethane    12.57   \n",
       "1                               2-Chloroethanol     5.00   \n",
       "2                               Ethylene Glycol  1189.20   \n",
       "3                                   Acetic Acid   874.20   \n",
       "4                                  Acetaldehyde -1168.79   \n",
       "..                                          ...      ...   \n",
       "517                         Zincum phosphoratum     5.00   \n",
       "518                      Titanium tetrabutoxide -8100.00   \n",
       "519                    Tetrabutyl orthotitanate -8100.00   \n",
       "520  trans-5-Ethylidenebicyclo[2.2.1]hept-2-ene   450.00   \n",
       "521                    s-Triazol-3-ol, 5-nitro-  -934.40   \n",
       "\n",
       "              Element_Names                            SMILES  \n",
       "0        ['Dichloroethane']                          C(CCl)Cl  \n",
       "1         ['Chloroethanol']                           C(CCl)O  \n",
       "2    ['Ethylene', 'Glycol']                            C(CO)O  \n",
       "3        ['Acetic', 'Acid']                           CC(=O)O  \n",
       "4          ['Acetaldehyde']                              CC=O  \n",
       "..                      ...                               ...  \n",
       "517              ['Zincum']  [P-3].[P-3].[Zn+2].[Zn+2].[Zn+2]  \n",
       "518            ['Titanium']      CCCCO.CCCCO.CCCCO.CCCCO.[Ti]  \n",
       "519          ['Tetrabutyl']                             CCCCO  \n",
       "520   ['Ethylidenebicyclo']         CC=C1C[C@@H]2C[C@@H]1C=C2  \n",
       "521             ['Triazol']        C1(=O)NC(=NN1)[N+](=O)[O-]  \n",
       "\n",
       "[522 rows x 4 columns]"
      ]
     },
     "execution_count": 4,
     "metadata": {},
     "output_type": "execute_result"
    }
   ],
   "source": [
    "df"
   ]
  },
  {
   "cell_type": "code",
   "execution_count": 5,
   "id": "20608943-2cb6-4834-a81b-a1822410cd42",
   "metadata": {
    "tags": []
   },
   "outputs": [],
   "source": [
    "df.rename(columns={\"SMILES\": \"smiles\"}, inplace=True)"
   ]
  },
  {
   "cell_type": "code",
   "execution_count": 6,
   "id": "feca5346-0a83-440e-b827-419e4dd2cf2a",
   "metadata": {
    "tags": []
   },
   "outputs": [
    {
     "data": {
      "text/plain": [
       "RangeIndex(start=0, stop=522, step=1)"
      ]
     },
     "execution_count": 6,
     "metadata": {},
     "output_type": "execute_result"
    }
   ],
   "source": [
    "df.index"
   ]
  },
  {
   "cell_type": "code",
   "execution_count": 7,
   "id": "acc7f28f-130a-4068-87c9-8815c6836bbe",
   "metadata": {
    "tags": []
   },
   "outputs": [],
   "source": [
    "df = df[['smiles', 'Energy']]"
   ]
  },
  {
   "cell_type": "code",
   "execution_count": 8,
   "id": "2f4bd811-2de5-4493-ae6d-52db97b2eb9e",
   "metadata": {
    "tags": []
   },
   "outputs": [
    {
     "data": {
      "text/html": [
       "<div>\n",
       "<style scoped>\n",
       "    .dataframe tbody tr th:only-of-type {\n",
       "        vertical-align: middle;\n",
       "    }\n",
       "\n",
       "    .dataframe tbody tr th {\n",
       "        vertical-align: top;\n",
       "    }\n",
       "\n",
       "    .dataframe thead th {\n",
       "        text-align: right;\n",
       "    }\n",
       "</style>\n",
       "<table border=\"1\" class=\"dataframe\">\n",
       "  <thead>\n",
       "    <tr style=\"text-align: right;\">\n",
       "      <th></th>\n",
       "      <th>smiles</th>\n",
       "      <th>Energy</th>\n",
       "    </tr>\n",
       "  </thead>\n",
       "  <tbody>\n",
       "    <tr>\n",
       "      <th>0</th>\n",
       "      <td>C(CCl)Cl</td>\n",
       "      <td>12.57</td>\n",
       "    </tr>\n",
       "    <tr>\n",
       "      <th>1</th>\n",
       "      <td>C(CCl)O</td>\n",
       "      <td>5.00</td>\n",
       "    </tr>\n",
       "  </tbody>\n",
       "</table>\n",
       "</div>"
      ],
      "text/plain": [
       "     smiles  Energy\n",
       "0  C(CCl)Cl   12.57\n",
       "1   C(CCl)O    5.00"
      ]
     },
     "execution_count": 8,
     "metadata": {},
     "output_type": "execute_result"
    }
   ],
   "source": [
    "df.head(2)"
   ]
  },
  {
   "cell_type": "code",
   "execution_count": null,
   "id": "ae7e898a-3a59-4a67-aa63-7f29ca9a8539",
   "metadata": {},
   "outputs": [],
   "source": []
  },
  {
   "cell_type": "code",
   "execution_count": 9,
   "id": "2ab16836-98bb-471a-bc8e-43bd323f5110",
   "metadata": {
    "tags": []
   },
   "outputs": [],
   "source": [
    "df.to_csv(\"smiles02.csv\", index=False)"
   ]
  },
  {
   "cell_type": "code",
   "execution_count": 10,
   "id": "0bc05ff1-568f-4a57-81e6-17d3d804d28e",
   "metadata": {},
   "outputs": [
    {
     "data": {
      "text/html": [
       "<div>\n",
       "<style scoped>\n",
       "    .dataframe tbody tr th:only-of-type {\n",
       "        vertical-align: middle;\n",
       "    }\n",
       "\n",
       "    .dataframe tbody tr th {\n",
       "        vertical-align: top;\n",
       "    }\n",
       "\n",
       "    .dataframe thead th {\n",
       "        text-align: right;\n",
       "    }\n",
       "</style>\n",
       "<table border=\"1\" class=\"dataframe\">\n",
       "  <thead>\n",
       "    <tr style=\"text-align: right;\">\n",
       "      <th></th>\n",
       "      <th>smiles</th>\n",
       "      <th>Energy</th>\n",
       "    </tr>\n",
       "  </thead>\n",
       "  <tbody>\n",
       "    <tr>\n",
       "      <th>0</th>\n",
       "      <td>C(CCl)Cl</td>\n",
       "      <td>12.57</td>\n",
       "    </tr>\n",
       "    <tr>\n",
       "      <th>1</th>\n",
       "      <td>C(CCl)O</td>\n",
       "      <td>5.00</td>\n",
       "    </tr>\n",
       "    <tr>\n",
       "      <th>2</th>\n",
       "      <td>C(CO)O</td>\n",
       "      <td>1189.20</td>\n",
       "    </tr>\n",
       "    <tr>\n",
       "      <th>3</th>\n",
       "      <td>CC(=O)O</td>\n",
       "      <td>874.20</td>\n",
       "    </tr>\n",
       "    <tr>\n",
       "      <th>4</th>\n",
       "      <td>CC=O</td>\n",
       "      <td>-1168.79</td>\n",
       "    </tr>\n",
       "    <tr>\n",
       "      <th>...</th>\n",
       "      <td>...</td>\n",
       "      <td>...</td>\n",
       "    </tr>\n",
       "    <tr>\n",
       "      <th>517</th>\n",
       "      <td>[P-3].[P-3].[Zn+2].[Zn+2].[Zn+2]</td>\n",
       "      <td>5.00</td>\n",
       "    </tr>\n",
       "    <tr>\n",
       "      <th>518</th>\n",
       "      <td>CCCCO.CCCCO.CCCCO.CCCCO.[Ti]</td>\n",
       "      <td>-8100.00</td>\n",
       "    </tr>\n",
       "    <tr>\n",
       "      <th>519</th>\n",
       "      <td>CCCCO</td>\n",
       "      <td>-8100.00</td>\n",
       "    </tr>\n",
       "    <tr>\n",
       "      <th>520</th>\n",
       "      <td>CC=C1C[C@@H]2C[C@@H]1C=C2</td>\n",
       "      <td>450.00</td>\n",
       "    </tr>\n",
       "    <tr>\n",
       "      <th>521</th>\n",
       "      <td>C1(=O)NC(=NN1)[N+](=O)[O-]</td>\n",
       "      <td>-934.40</td>\n",
       "    </tr>\n",
       "  </tbody>\n",
       "</table>\n",
       "<p>522 rows × 2 columns</p>\n",
       "</div>"
      ],
      "text/plain": [
       "                               smiles   Energy\n",
       "0                            C(CCl)Cl    12.57\n",
       "1                             C(CCl)O     5.00\n",
       "2                              C(CO)O  1189.20\n",
       "3                             CC(=O)O   874.20\n",
       "4                                CC=O -1168.79\n",
       "..                                ...      ...\n",
       "517  [P-3].[P-3].[Zn+2].[Zn+2].[Zn+2]     5.00\n",
       "518      CCCCO.CCCCO.CCCCO.CCCCO.[Ti] -8100.00\n",
       "519                             CCCCO -8100.00\n",
       "520         CC=C1C[C@@H]2C[C@@H]1C=C2   450.00\n",
       "521        C1(=O)NC(=NN1)[N+](=O)[O-]  -934.40\n",
       "\n",
       "[522 rows x 2 columns]"
      ]
     },
     "execution_count": 10,
     "metadata": {},
     "output_type": "execute_result"
    }
   ],
   "source": [
    "df"
   ]
  }
 ],
 "metadata": {
  "kernelspec": {
   "display_name": "Python 3 (ipykernel)",
   "language": "python",
   "name": "python3"
  },
  "language_info": {
   "codemirror_mode": {
    "name": "ipython",
    "version": 3
   },
   "file_extension": ".py",
   "mimetype": "text/x-python",
   "name": "python",
   "nbconvert_exporter": "python",
   "pygments_lexer": "ipython3",
   "version": "3.8.10"
  }
 },
 "nbformat": 4,
 "nbformat_minor": 5
}
